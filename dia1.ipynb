{
 "cells": [
  {
   "cell_type": "code",
   "execution_count": 18,
   "metadata": {},
   "outputs": [
    {
     "name": "stdout",
     "output_type": "stream",
     "text": [
      "Hola mundo\n",
      "\"Eduardo\" Su número de telefono es 12345 , hasta luego\n"
     ]
    }
   ],
   "source": [
    "print (\"Hola mundo\")\n",
    "\n",
    "nombre ='\"Eduardo\"'\n",
    "numero = 12345\n",
    "print (nombre, \"Su número de telefono es\", numero, \", hasta luego\")"
   ]
  },
  {
   "cell_type": "code",
   "execution_count": 42,
   "metadata": {},
   "outputs": [
    {
     "name": "stdout",
     "output_type": "stream",
     "text": [
      " La cantidad de frutas que tenemos es de  40\n",
      " Las frutas restantes despues de las ventas son 30\n"
     ]
    }
   ],
   "source": [
    "cantidad_de_manzanas = 20 \n",
    "cantidad_de_naranjas = 20\n",
    "cantitdad_de_frutas = cantidad_de_manzanas + cantidad_de_naranjas\n",
    "print(\" La cantidad de frutas que tenemos es de \", cantitdad_de_frutas)\n",
    "frutas_vendidas = 10\n",
    "frutas_restantes = cantitdad_de_frutas - frutas_vendidas\n",
    "print(\" Las frutas restantes despues de las ventas son\", frutas_restantes)"
   ]
  },
  {
   "cell_type": "markdown",
   "metadata": {},
   "source": [
    " # ejemplos de concatenacion\n",
    "print(\" Hola, mi nombre es \" + \" \" + nombre + \" \" + apellido ) \n",
    "print (f\"Hola, mi nombre es: {nombre} {apellido}\") no olvidar que va junto la f con la comilla.\n"
   ]
  },
  {
   "cell_type": "code",
   "execution_count": 85,
   "metadata": {},
   "outputs": [
    {
     "name": "stdout",
     "output_type": "stream",
     "text": [
      "Hola, me llamo  Liam   Barrios   y degenere la carrera de Derecho\n",
      "Hola, me llamo   Liam   Barrios  , mucho gusto\n"
     ]
    }
   ],
   "source": [
    "nombre = \" Liam \"\n",
    "apellido = \" Barrios  \"\n",
    "\n",
    "print (\"Hola, me llamo\" + \" \" + nombre + \" \" + apellido, \"y degenere la carrera de Derecho\" )\n",
    "print(f\"Hola, me llamo  { nombre } {apellido}, mucho gusto\")"
   ]
  },
  {
   "cell_type": "code",
   "execution_count": 82,
   "metadata": {},
   "outputs": [
    {
     "name": "stdout",
     "output_type": "stream",
     "text": [
      "La suma es de 8\n"
     ]
    }
   ],
   "source": [
    "#nombre  = input (\"Cual es tu nombre?\")\n",
    "# print (nombre)\n",
    "\n",
    "\n",
    "numero1 = int(input(\"dame un numero \"))\n",
    "numero2 = int(input(\"dame otro numero\"))\n",
    "\n",
    "suma = numero1 + numero2 \n",
    "print(f\"La suma es de {suma }\")"
   ]
  },
  {
   "cell_type": "code",
   "execution_count": 83,
   "metadata": {},
   "outputs": [
    {
     "name": "stdout",
     "output_type": "stream",
     "text": [
      " Abrir el pan\n",
      " agregar jamon\n",
      " agregar queso\n",
      " cerrar pan \n",
      " Listo\n"
     ]
    }
   ],
   "source": [
    "def preparar_sandwich():\n",
    "    print(\" Abrir el pan\")\n",
    "    print(\" agregar jamon\")\n",
    "    print(\" agregar queso\")\n",
    "    print(\" cerrar pan \")\n",
    "    print(\" Listo\")\n",
    "\n",
    "preparar_sandwich()"
   ]
  },
  {
   "cell_type": "code",
   "execution_count": 84,
   "metadata": {},
   "outputs": [
    {
     "name": "stdout",
     "output_type": "stream",
     "text": [
      "Definir el material\n",
      "Definir el tipo de mueble\n",
      "Definir las dimensiones \n",
      "Conseguir la materia prima\n",
      "Fabricar el mueble parte por parte\n",
      "Limpiar\n",
      "Entregar al cliente\n",
      "Definir el material\n",
      "Definir el tipo de mueble\n",
      "Definir las dimensiones \n",
      "Conseguir la materia prima\n",
      "Fabricar el mueble parte por parte\n",
      "Limpiar\n",
      "Entregar al cliente\n",
      "Definir el material\n",
      "Definir el tipo de mueble\n",
      "Definir las dimensiones \n",
      "Conseguir la materia prima\n",
      "Fabricar el mueble parte por parte\n",
      "Limpiar\n",
      "Entregar al cliente\n"
     ]
    }
   ],
   "source": [
    "def hacer_un_mueble():\n",
    "    print(\"Definir el material\")\n",
    "    print(\"Definir el tipo de mueble\")\n",
    "    print(\"Definir las dimensiones \")\n",
    "    print(\"Conseguir la materia prima\")\n",
    "    print(\"Fabricar el mueble parte por parte\")\n",
    "    print(\"Limpiar\")\n",
    "    print(\"Entregar al cliente\")\n",
    "\n",
    "hacer_un_mueble()\n",
    "hacer_un_mueble()\n",
    "hacer_un_mueble()\n",
    "\n",
    "        "
   ]
  },
  {
   "cell_type": "markdown",
   "metadata": {},
   "source": [
    "Parametros y argumentos \n",
    "a veces queremos ejecutar casi la misma funcion varias veces, las funciones pueden recibir informacion desde afuera, para poder hacer cosas diferentes cada cez que se usan. Esa informacion se pasa a traves de parametros  (cuando definimos la funcion ) y argumentos (cuando llegamos a la funcion)\n"
   ]
  },
  {
   "cell_type": "code",
   "execution_count": 95,
   "metadata": {},
   "outputs": [
    {
     "name": "stdout",
     "output_type": "stream",
     "text": [
      "Abrir el pan\n",
      "Agregar huevo \n",
      "Cerrar pan\n",
      "Listo\n",
      " \n",
      "Abrir el pan\n",
      "Agregar tomate y lechuga \n",
      "Cerrar pan\n",
      "Listo\n",
      " \n"
     ]
    }
   ],
   "source": [
    "def preparar_sandwich(ingrediente):\n",
    "    print(\"Abrir el pan\")\n",
    "    print(f\"Agregar {ingrediente} \")\n",
    "    print(\"Cerrar pan\")\n",
    "    print(\"Listo\")\n",
    "    print (\" \")\n",
    "\n",
    "preparar_sandwich(\"huevo\")\n",
    "\n",
    "preparar_sandwich(\"tomate y lechuga\")"
   ]
  },
  {
   "cell_type": "code",
   "execution_count": null,
   "metadata": {},
   "outputs": [
    {
     "name": "stdout",
     "output_type": "stream",
     "text": [
      "Ir al shopping\n",
      "Escoger una tienda de calzados\n",
      "Los detalles son color rojo, talle 42, marca nike \n",
      "comprar el calzado\n",
      "Salir del shopping\n",
      "Volver a casa\n"
     ]
    }
   ],
   "source": [
    "def comprar_articulo(caracteristicas):\n",
    "    print(\"Ir al shopping\")\n",
    "    print(\"Escoger una tienda de calzados\")\n",
    "    print(f\"Los detalles son {caracteristicas} \")\n",
    "    print(\"comprar el calzado\")\n",
    "    print(\"Salir del shopping\")\n",
    "    print(\"Volver a casa\")\n",
    "\n",
    "\n",
    "\n",
    "comprar_articulo(\"color rojo, talle 42, marca nike\")\n",
    "\n"
   ]
  },
  {
   "cell_type": "code",
   "execution_count": null,
   "metadata": {},
   "outputs": [
    {
     "name": "stdout",
     "output_type": "stream",
     "text": [
      "Ir al shopping\n",
      "Escoger una tienda de calzados\n",
      "Los detalles son   nike calce 40 \n",
      "comprar el calzado\n",
      "Salir del shopping\n",
      "Volver a casa\n"
     ]
    }
   ],
   "source": [
    "# solamente prueba\n",
    "caracteristicasproducto = input (\"Introduzca las caracteristicas \")\n",
    "\n",
    "\n",
    "\n",
    "def comprar_algun_articulo(caracteristicas):\n",
    "    print(\"Ir al shopping\")\n",
    "    print(\"Escoger una tienda de calzados\")\n",
    "    print(f\"Los detalles { caracteristicasproducto} \")\n",
    "    print(\"comprar el calzado\")\n",
    "    print(\"Salir del shopping\")\n",
    "    print(\"Volver a casa\")\n",
    "\n",
    "comprar_articulo(  \" \" + \" \" + caracteristicasproducto )\n",
    "\n",
    " "
   ]
  },
  {
   "cell_type": "code",
   "execution_count": null,
   "metadata": {},
   "outputs": [],
   "source": []
  }
 ],
 "metadata": {
  "kernelspec": {
   "display_name": "Python 3",
   "language": "python",
   "name": "python3"
  },
  "language_info": {
   "codemirror_mode": {
    "name": "ipython",
    "version": 3
   },
   "file_extension": ".py",
   "mimetype": "text/x-python",
   "name": "python",
   "nbconvert_exporter": "python",
   "pygments_lexer": "ipython3",
   "version": "3.13.2"
  }
 },
 "nbformat": 4,
 "nbformat_minor": 2
}
