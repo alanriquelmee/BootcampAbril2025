{
 "cells": [
  {
   "cell_type": "code",
   "execution_count": null,
   "metadata": {},
   "outputs": [
    {
     "name": "stdout",
     "output_type": "stream",
     "text": [
      "Sos mayor de edad, podes ingresar\n"
     ]
    }
   ],
   "source": [
    "edad = 18\n",
    "if edad < 18:\n",
    "    print(\"Sos menor de edad, no podes ingresar\")\n",
    "else:\n",
    "    print(\"Sos mayor de edad, podes ingresar\")\n",
    "\n",
    "\n"
   ]
  },
  {
   "cell_type": "code",
   "execution_count": 19,
   "metadata": {},
   "outputs": [
    {
     "name": "stdout",
     "output_type": "stream",
     "text": [
      "Trabajador\n"
     ]
    }
   ],
   "source": [
    "# numero1 = int(input(\"dame un numero \"))\n",
    "\n",
    "edad_individuo = int(input (\"ingresa tu edad\") )\n",
    "\n",
    "if edad_individuo < 18 :\n",
    "    print(\"Estudiante\")\n",
    "elif edad_individuo > 65 :\n",
    "    print(\"Jubilado\")\n",
    "else:\n",
    "    print(\"Trabajador\")\n"
   ]
  },
  {
   "cell_type": "code",
   "execution_count": 25,
   "metadata": {},
   "outputs": [
    {
     "name": "stdout",
     "output_type": "stream",
     "text": [
      "Hace lo que quieras\n"
     ]
    }
   ],
   "source": [
    "edad_usuario = int(input (\"Ingresa tu edad kp\"))\n",
    "if edad_usuario < 18:\n",
    "    print(\"Juguito nomas\")\n",
    "elif edad_usuario >= 21 :\n",
    "    print(\"Hace lo que quieras\")\n",
    "else:\n",
    "    print(\"Podes tomar pero no comprar\") \n"
   ]
  },
  {
   "cell_type": "markdown",
   "metadata": {},
   "source": [
    "Escribir un programa en el que se pregunte al usuario por una temperatura (en grados Celsius), imprima la temperatura escrita, y luego clasificar la temperatura ingresada en los siguientes niveles:\n",
    "\n",
    "Entre -10 y 18 grados, que imprima \"Fresquete\".\n",
    "Entre 19 y 30 grados, que imprima \"Calor'i\".\n",
    "Entre 31 y 45 grados, que imprima \"Hakuuuuuu\".\n",
    "Para todo lo demás, imprimir \"Ñamano mba'e!\"."
   ]
  },
  {
   "cell_type": "code",
   "execution_count": 42,
   "metadata": {},
   "outputs": [
    {
     "name": "stdout",
     "output_type": "stream",
     "text": [
      "Fresquete\n"
     ]
    }
   ],
   "source": [
    "temperatura =  float(input(\"Cual es la temperatura actual?\"))\n",
    "\n",
    "if -10 <= temperatura <= 18:\n",
    "    print(\"Fresquete\")\n",
    "elif 19 <= temperatura <= 30:\n",
    "    print(\" Calor'i\")\n",
    "elif 31 <= temperatura <= 45:\n",
    "    print(\"Hakurooo\")\n",
    "else:\n",
    "    print(\"Ñamano mba'e\")\n",
    "\n",
    "\n",
    "#funcion\n",
    "\n",
    "\n",
    "    "
   ]
  },
  {
   "cell_type": "code",
   "execution_count": 50,
   "metadata": {},
   "outputs": [
    {
     "name": "stdout",
     "output_type": "stream",
     "text": [
      "Esta contraseña es invalida\n",
      "Esta contraseña es invalida\n",
      "Esta contraseña es invalida\n",
      "Esta contraseña es correcta \n"
     ]
    }
   ],
   "source": [
    "contrasenha_correcta = \"Lacomadre\"\n",
    "\n",
    "contrasenha_ingresada = (input(\"Ingrese una contraseña\"))\n",
    "\n",
    "while contrasenha_ingresada != contrasenha_correcta:\n",
    "    print(\"Esta contraseña es invalida\")\n",
    "    contrasenha_ingresada = (input(\"Ingresa nuevamente\"))\n",
    "\n",
    "print (\"Esta contraseña es correcta \")\n",
    "\n",
    "    "
   ]
  },
  {
   "cell_type": "code",
   "execution_count": 53,
   "metadata": {},
   "outputs": [
    {
     "name": "stdout",
     "output_type": "stream",
     "text": [
      "banana\n",
      "['pera', 'manzana', 'banana', 'kiwi']\n",
      "['pera', 'durazno', 'banana', 'kiwi']\n",
      "['durazno', 'banana', 'kiwi']\n",
      "['durazno', 'kiwi']\n",
      "2\n"
     ]
    }
   ],
   "source": [
    "lista_frutas = [\"pera\", \"manzana\", \"banana\"]\n",
    "#diferentes tipos de datos \n",
    "\n",
    "lista_bool = [True, False, True, False, True]\n",
    "lista_numeros = [1, 2, 3, 4 ]\n",
    "\n",
    "\n",
    "print(lista_frutas[2])\n",
    "\n",
    "#Anhadir \n",
    "\n",
    "lista_frutas.append(\"kiwi\")\n",
    "print(lista_frutas)\n",
    "\n",
    "#modificar \n",
    "lista_frutas[1] = \"durazno\"\n",
    "print(lista_frutas)\n",
    "\n",
    "\n",
    "# eliminar elemento especifico \n",
    "\n",
    "lista_frutas.remove (\"pera\")\n",
    "print(lista_frutas)\n",
    "\n",
    "\n",
    "#Eliminar un elemento por indice\n",
    "\n",
    "lista_frutas.pop(1)\n",
    "print(lista_frutas)\n",
    "\n",
    "#contar elementos de la lista \n",
    "print(len(lista_frutas))"
   ]
  },
  {
   "cell_type": "markdown",
   "metadata": {},
   "source": [
    "Crear una lista de 5 elementos. Luego, seguir los siguientes pasos.\n",
    "\n",
    "Agregar un elemento al final de la lista.\n",
    "\n",
    "Modificar el segundo elemento.\n",
    "\n",
    "Eliminar el tercer elemento."
   ]
  },
  {
   "cell_type": "code",
   "execution_count": null,
   "metadata": {},
   "outputs": [
    {
     "name": "stdout",
     "output_type": "stream",
     "text": [
      "['madera', 'melamina', 'metal', 'cristal', 'cuero']\n",
      "['madera', 'melamina', 'metal', 'cristal', 'cuero', ' tapizado ']\n",
      "['madera', 'tapizado', 'metal', 'cristal', 'cuero', ' tapizado ']\n",
      "['madera', 'tapizado', 'cristal', 'cuero', ' tapizado ']\n"
     ]
    }
   ],
   "source": [
    "lista_materiales = [\"madera\", \"melamina\", \"metal\", \"cristal\", \"cuero\"]\n",
    "print(lista_materiales) \n",
    "\n",
    "\n",
    "lista_materiales.append(\" tapizado \")\n",
    "print(lista_materiales)\n",
    "\n",
    "lista_materiales[1] = \"tapizado\"\n",
    "print(lista_materiales)\n",
    "\n",
    "lista_materiales.pop(2)\n",
    "print(lista_materiales)\n",
    "\n",
    "lista_materiales."
   ]
  },
  {
   "cell_type": "code",
   "execution_count": null,
   "metadata": {},
   "outputs": [
    {
     "name": "stdout",
     "output_type": "stream",
     "text": [
      "1\n",
      "2\n",
      "3\n",
      "4\n",
      "5\n",
      "6\n",
      "7\n",
      "Hola buen dia\n",
      "Hola buen dia\n",
      "Hola buen dia\n",
      "Hola buen dia\n",
      "Hola buen dia\n"
     ]
    }
   ],
   "source": [
    "dias_de_la_semana = [1,2,3,4,5,6,7]\n",
    "\n",
    "for i in dias_de_la_semana:\n",
    "    print(i)\n",
    "\n",
    "\n",
    "for i in range(5):\n",
    "    print(\"Hola buen dia\")\n",
    "\n"
   ]
  },
  {
   "cell_type": "markdown",
   "metadata": {},
   "source": [
    "Escribir un programa que itere en un rango de 10 veces. Por cada iteracion multiplicar el iterador por dos e imprimir el resultado.\n"
   ]
  },
  {
   "cell_type": "code",
   "execution_count": 75,
   "metadata": {},
   "outputs": [
    {
     "name": "stdout",
     "output_type": "stream",
     "text": [
      "0\n",
      "2\n",
      "4\n",
      "6\n",
      "8\n",
      "10\n",
      "12\n",
      "14\n",
      "16\n",
      "18\n"
     ]
    }
   ],
   "source": [
    "for programa in range(10):\n",
    "    print(programa * 2)"
   ]
  },
  {
   "cell_type": "code",
   "execution_count": 76,
   "metadata": {},
   "outputs": [
    {
     "name": "stdout",
     "output_type": "stream",
     "text": [
      "2\n",
      "4\n",
      "6\n",
      "8\n",
      "10\n",
      "12\n",
      "14\n",
      "16\n",
      "18\n",
      "20\n"
     ]
    }
   ],
   "source": [
    "for programa in range(10):\n",
    "    print ((programa + 1)  * 2 )"
   ]
  },
  {
   "cell_type": "code",
   "execution_count": 79,
   "metadata": {},
   "outputs": [
    {
     "name": "stdout",
     "output_type": "stream",
     "text": [
      "pan\n",
      "queso\n",
      "coca \n"
     ]
    }
   ],
   "source": [
    "lista_compras = [\"pan\", \"queso\", \"coca \"]\n",
    "\n",
    "for articulo in lista_compras:\n",
    "    print(articulo)"
   ]
  },
  {
   "cell_type": "code",
   "execution_count": null,
   "metadata": {},
   "outputs": [],
   "source": []
  },
  {
   "cell_type": "markdown",
   "metadata": {},
   "source": [
    "\n",
    "#contar elementos de la lista \n",
    "\n",
    "print(len(lista_frutas))\n",
    "\n",
    "Recorrer los elementos de una lista de marcas e imprimir cada marca solamente si tiene 6 letras o más.\n"
   ]
  },
  {
   "cell_type": "code",
   "execution_count": 11,
   "metadata": {},
   "outputs": [
    {
     "name": "stdout",
     "output_type": "stream",
     "text": [
      "adidas Tiene 6 letras\n",
      "toyota Tiene 6 letras\n",
      "Eclipsio Tiene 8 letras\n",
      "dsnfhbdsjfdsjf Tiene 14 letras\n"
     ]
    }
   ],
   "source": [
    "lista_de_marcas = [\"adidas\", \"nike\", \"toyota\", \"puma\", \"kia\", \"Eclipsio\", \"dsnfhbdsjfdsjf\"]\n",
    "\n",
    "\n",
    "for marca in lista_de_marcas:\n",
    "\n",
    " if len (marca)  >= 6 :\n",
    "     print ((marca), \"Tiene\", len (marca), \"letras\" )\n",
    "    \n",
    "\n",
    "\n"
   ]
  },
  {
   "cell_type": "code",
   "execution_count": null,
   "metadata": {},
   "outputs": [
    {
     "name": "stdout",
     "output_type": "stream",
     "text": [
      "Acabas de escribir o \n",
      "Acabas de escribir o \n",
      "Acabas de escribir o \n"
     ]
    }
   ],
   "source": [
    "frase  = input (\"Ingrese una frase\")\n",
    "\n",
    "for letra in frase:\n",
    "    if letra == \"o\" or letra == \"O\":\n",
    "        print(\"Acabas de escribir o \")\n",
    "\n",
    "        ## VER CASO DE BREAK y usar while true\n",
    "\n",
    "    #elif letra != \"o\":\n",
    "      #  print(\"Debes ingresar al menos una palabra con la letra O\")\n",
    "      #  input (\"Ingrese una frase por favor \")\n",
    "\n",
    "      # oracion = input(\"escribe una frase:\")\n",
    "#contador = 0\n",
    "\n",
    "#for letra in oracion:\n",
    "    #if letra.lower() == \"o\":\n",
    "       # contador += 1\n",
    "\n",
    "#print(f\"la letra o aparece {contador} veces\")\n",
    "     "
   ]
  }
 ],
 "metadata": {
  "kernelspec": {
   "display_name": "Python 3",
   "language": "python",
   "name": "python3"
  },
  "language_info": {
   "codemirror_mode": {
    "name": "ipython",
    "version": 3
   },
   "file_extension": ".py",
   "mimetype": "text/x-python",
   "name": "python",
   "nbconvert_exporter": "python",
   "pygments_lexer": "ipython3",
   "version": "3.13.2"
  }
 },
 "nbformat": 4,
 "nbformat_minor": 2
}
