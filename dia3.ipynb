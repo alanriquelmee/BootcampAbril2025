{
 "cells": [
  {
   "cell_type": "markdown",
   "metadata": {},
   "source": [
    "Crear una función que imprima la variable palabra."
   ]
  },
  {
   "cell_type": "code",
   "execution_count": null,
   "metadata": {},
   "outputs": [
    {
     "name": "stdout",
     "output_type": "stream",
     "text": [
      "Hola\n"
     ]
    }
   ],
   "source": [
    "\n",
    "\n",
    "def funcion_primer_challenge():\n",
    "\n",
    "    palabra = \"Hola\"\n",
    "    print(palabra)\n",
    "\n",
    "funcion_primer_challenge()"
   ]
  },
  {
   "cell_type": "code",
   "execution_count": 4,
   "metadata": {},
   "outputs": [
    {
     "name": "stdout",
     "output_type": "stream",
     "text": [
      "6\n"
     ]
    }
   ],
   "source": [
    "def sumar_numeros(numero1,numero2):\n",
    "    suma = numero1 + numero2\n",
    "    print(suma)\n",
    "\n",
    "sumar_numeros(1,5)"
   ]
  },
  {
   "cell_type": "markdown",
   "metadata": {},
   "source": [
    "Crear una función que reciba dos letras (parámetros) y que verifique si son iguales:\n",
    "\n",
    "Si son iguales, imprimir \"Las letras son iguales\".\n",
    "\n",
    "De lo contrario, imprimir \"Las letras son diferentes\"."
   ]
  },
  {
   "cell_type": "code",
   "execution_count": null,
   "metadata": {},
   "outputs": [
    {
     "name": "stdout",
     "output_type": "stream",
     "text": [
      " Las letras son diferentes\n"
     ]
    }
   ],
   "source": [
    "def funcion_igualdad (letra1,letra2):\n",
    "    \n",
    "    if letra1.lower() == letra2.lower() :\n",
    "        print(\" Las letras son iguales \")\n",
    "\n",
    "    else:\n",
    "        print(\" Las letras son diferentes\")\n",
    "    \n",
    "\n",
    "funcion_igualdad (\"A\",\"B\")"
   ]
  },
  {
   "cell_type": "markdown",
   "metadata": {},
   "source": [
    "Crear una función que reciba dos parámetros (una palabra y un número), y que retorne True si el número es igual a la cantidad de letras de la palabra. En caso contrario, que retorne False.\n",
    "\n",
    "Pista: cantidad de letras de una palabra en python"
   ]
  },
  {
   "cell_type": "code",
   "execution_count": 38,
   "metadata": {},
   "outputs": [
    {
     "data": {
      "text/plain": [
       "False"
      ]
     },
     "execution_count": 38,
     "metadata": {},
     "output_type": "execute_result"
    }
   ],
   "source": [
    "\n",
    "\n",
    "def comparacion (palabra1,numero1):\n",
    "    \n",
    "    if numero1 == len(palabra1):\n",
    "     print(f\"La palabra es {palabra1} y el numero es {numero1} \")\n",
    "     return True\n",
    "\n",
    "    else:\n",
    "     return False\n",
    "    \n",
    "palabra1 = (input(\"Ingrese una Palabra\"))\n",
    "numero1 = int (input(\"Ingrese un numero \"))\n",
    "\n",
    "comparacion(palabra1,numero1)\n",
    "\n"
   ]
  },
  {
   "cell_type": "markdown",
   "metadata": {},
   "source": [
    "\n",
    "\n",
    "Ejemplo del resultado esperado:\n",
    "\n",
    "[['c', 'i', 'e', 'l', 'o']]\n",
    " # Al ingresar la primera palabra\n",
    "\n",
    "[['c', 'i', 'e', 'l', 'o'], ['c', 'a', 'l', 'o', 'r']]\n",
    " # Al ingresar la segunda palabra\n",
    "\n",
    "[['c', 'i', 'e', 'l', 'o'], ['c', 'a', 'l', 'o', 'r'], ['n', 'u', 'b', 'e', 's']]\n",
    " # Al ingresar la tercera palabra\n",
    "\n",
    "Pedir al usuario que ingrese 1 palabra, luego convertir esa palabra a una lista con sus caracteres con list(). Agregar esa lista de caracteres a una lista llamada palabras_ingresadas. Repetir el proceso 3 veces. Cada vez que se agregue una lista de caracteres, imprimir la lista palabras_ingresadas."
   ]
  },
  {
   "cell_type": "code",
   "execution_count": null,
   "metadata": {},
   "outputs": [
    {
     "name": "stdout",
     "output_type": "stream",
     "text": [
      "[['a', 'l', 'a', 'n']]\n",
      "[['a', 'l', 'a', 'n'], ['h', 'o', 'l', 'a']]\n",
      "[['a', 'l', 'a', 'n'], ['h', 'o', 'l', 'a'], ['h', 'o', 'l', 'a']]\n",
      "[['a', 'l', 'a', 'n'], ['h', 'o', 'l', 'a'], ['h', 'o', 'l', 'a'], ['r', 'a', 'm', 'o', 'n']]\n"
     ]
    }
   ],
   "source": [
    "# for i in range(6):\n",
    "   # print(\"Hola buen dia\")\n",
    "\n",
    "\n",
    "# ista_de_primera_palabra = (input(\"Ingrese una palabra\"))\n",
    "\n",
    "\n",
    "palabras_ingresadas = []\n",
    "\n",
    "for i in range(3):\n",
    "    palabra = input(\"Ingrese una palabra\")\n",
    "    lista_auxiliar = list (palabra)\n",
    "    palabras_ingresadas.append (lista_auxiliar)\n",
    "    print(palabras_ingresadas)\n",
    "    \n",
    "\n",
    "\n",
    "\n",
    "\n",
    "    \n"
   ]
  },
  {
   "cell_type": "code",
   "execution_count": null,
   "metadata": {},
   "outputs": [],
   "source": []
  },
  {
   "cell_type": "code",
   "execution_count": 57,
   "metadata": {},
   "outputs": [
    {
     "name": "stdout",
     "output_type": "stream",
     "text": [
      "[['h', 'o', 'l', 'a']]\n",
      "[['h', 'o', 'l', 'a'], ['h', 'o', 'l', 'a']]\n",
      "[['h', 'o', 'l', 'a'], ['h', 'o', 'l', 'a'], ['h', 'o', 'l', 'a']]\n"
     ]
    }
   ],
   "source": [
    "palabras_ingresadas = []\n",
    "\n",
    "def Conteo():\n",
    "\n",
    "    Palabra_ingresada_usuario = input(\"Pon una palabra\")\n",
    "    palabra_descompuesta = list(Palabra_ingresada_usuario)\n",
    "    palabras_ingresadas.append(palabra_descompuesta)\n",
    "    print(palabras_ingresadas)\n",
    "\n",
    "Conteo()\n",
    "Conteo()\n",
    "Conteo()"
   ]
  },
  {
   "cell_type": "code",
   "execution_count": 58,
   "metadata": {},
   "outputs": [
    {
     "name": "stdout",
     "output_type": "stream",
     "text": [
      "[['h', 'o', 'l', 'a', 'o']]\n",
      "[['h', 'o', 'l', 'a', 'o'], ['h', 'o', 'l', 'a']]\n",
      "[['h', 'o', 'l', 'a', 'o'], ['h', 'o', 'l', 'a'], ['h', 'o', 'l', 'a']]\n"
     ]
    }
   ],
   "source": [
    "lista_de_listas = []\n",
    "\n",
    "palabra = input(\"primera palabra\")\n",
    "lista = list(palabra) \n",
    "lista_de_listas.append (lista)\n",
    "print (lista_de_listas)\n",
    "\n",
    "palabra1 = input(\"segunda palabra\")\n",
    "lista1 = list(palabra1)\n",
    "lista_de_listas.append (lista1)\n",
    "print(lista_de_listas)\n",
    "\n",
    "palabra2 = input(\"tercera palabra\")\n",
    "lista2 = list(palabra2)\n",
    "lista_de_listas.append (lista2)\n",
    "print(lista_de_listas)"
   ]
  },
  {
   "cell_type": "code",
   "execution_count": 69,
   "metadata": {},
   "outputs": [
    {
     "ename": "SyntaxError",
     "evalue": "expected ':' (243543751.py, line 2)",
     "output_type": "error",
     "traceback": [
      "\u001b[1;36m  Cell \u001b[1;32mIn[69], line 2\u001b[1;36m\u001b[0m\n\u001b[1;33m    def obtener_fila_verificada(palabra_a_encontrar,palabra_ingresada)\u001b[0m\n\u001b[1;37m                                                                      ^\u001b[0m\n\u001b[1;31mSyntaxError\u001b[0m\u001b[1;31m:\u001b[0m expected ':'\n"
     ]
    }
   ],
   "source": [
    "#crear una funcion que contenga dos parametros\n",
    "def obtener_fila_verificada(palabra_a_encontrar,palabra_ingresada)\n",
    "    #segundo paso: definir la cantidad de letras de la palabra a encontrar \n",
    "\n",
    "    cantidad_de_letras_de_palabra_a_encontrar = 5 \n",
    "\n",
    "    #tercer paso: Crear una lista vacia para guardar las letras verificadas \n",
    "    letras_verificadas = []\n",
    "\n",
    "    #cuarto paso: se recorre cada posicion de la palabra \n",
    "    for posicion in range (cantidad_de_letras_de_palabra_a_encontrar)\n",
    "\n",
    "    #quinto paso: comparar las letras en la misma posicion\n",
    "    las_letras_son_iguales = palabra_a_encontrar[posicion] == palabras_ingresadas[posicion]\n",
    "\n",
    "\n",
    "    #sexto paso se verifica si la letra existe en la palabra \n",
    "    la_letra_existe_en_la_palabra = palabra_ingresada[posicion] in palabra_a_encontrar\n",
    "\n",
    "    if las_letras_son_iguales:\n",
    "        letras_verificadas.append(\"[\" + palabra_ingresada[posicion] +)\n"
   ]
  },
  {
   "cell_type": "code",
   "execution_count": null,
   "metadata": {},
   "outputs": [],
   "source": []
  },
  {
   "cell_type": "code",
   "execution_count": null,
   "metadata": {},
   "outputs": [],
   "source": []
  },
  {
   "cell_type": "code",
   "execution_count": 125,
   "metadata": {},
   "outputs": [
    {
     "name": "stdout",
     "output_type": "stream",
     "text": [
      "Eureka, encontraste la palabra correcta, que era: Carne\n",
      "Te quedaste sin intentos\n"
     ]
    }
   ],
   "source": [
    "palabra_del_juego = \"Carne\"\n",
    "#palabra_usuario = input(\"Ingrese una palabra de 5 letras\")\n",
    "vidas = 3\n",
    "\n",
    "\n",
    "\n",
    "def conocer_fila_verificada (palabra_del_juego,palabra_usuario):\n",
    "\n",
    "    longitud_de_palabra_del_juego = 5\n",
    "\n",
    "    comparacion_de_letras = []\n",
    "\n",
    "\n",
    "    for indice in range(longitud_de_palabra_del_juego):\n",
    "        mismas_letras = palabra_del_juego[indice] == palabra_usuario[indice]\n",
    "        letra_existente = palabra_usuario[indice] in palabra_del_juego\n",
    "\n",
    "         \n",
    "        if mismas_letras:\n",
    "           comparacion_de_letras.append(\"[\" + palabra_usuario[indice] +\"]\" )\n",
    "        elif letra_existente:\n",
    "            comparacion_de_letras.append(\"(\" + palabra_usuario[indice] + \")\")\n",
    "        else:\n",
    "            comparacion_de_letras.append(palabra_usuario[indice])\n",
    "        \n",
    "\n",
    "    return comparacion_de_letras\n",
    "       \n",
    "       \n",
    "#linea_verificada = conocer_fila_verificada(palabra_del_juego,palabra_usuario)\n",
    "#print(linea_verificada)\n",
    "\n",
    "while vidas > 0:\n",
    "    \n",
    "    palabra_usuario= input(\"Ingrese una palabra de 5 letras\")\n",
    "    if palabra_del_juego == palabra_usuario:\n",
    "        vidas = 0\n",
    "        print( \"Eureka, encontraste la palabra correcta, que era: \" +  palabra_del_juego)\n",
    "    else:\n",
    "    \n",
    "     linea_verificada = conocer_fila_verificada(palabra_del_juego,palabra_usuario)\n",
    "     print(linea_verificada)\n",
    "     vidas = vidas -1\n",
    "     print(f\"te quedan {vidas} vidas\")\n",
    "\n",
    "\n",
    "print(\"Te quedaste sin intentos\")\n",
    "\n",
    "\n",
    "\n",
    "\n",
    "\n",
    "\n",
    "#palabra_del_juego = \"Carne\"\n",
    "#palabra_usuario = input(\"Ingrese la palabra de 5 letras: \")\n",
    "\n",
    "\n",
    "\n",
    "\n",
    "\n",
    "\n",
    "\n",
    "\n",
    "\n",
    "\n",
    "    \n",
    "    \n",
    "\n",
    "    "
   ]
  },
  {
   "cell_type": "markdown",
   "metadata": {},
   "source": []
  },
  {
   "cell_type": "markdown",
   "metadata": {},
   "source": [
    "Dada la lista de ejemplo: \n",
    "\n",
    "lista = [['h', 'o', 'l', 'i', 's'], ['h', 'e', 'l', 'l', 'o'], ['h', 'a', 'l', 'l', 'o']]\n",
    "\n",
    "Crear una función que imprima una grilla (lista de listas), una línea por cada lista dentro de la lista principal.\n",
    "\n",
    "Ejemplo del resultado esperado:\n",
    "\n",
    "['h', 'o', 'l', 'i', 's']\n",
    "\n",
    "['h', 'e', 'l', 'l', 'o']\n",
    "\n",
    "['h', 'a', 'l', 'l', 'o']"
   ]
  },
  {
   "cell_type": "code",
   "execution_count": 80,
   "metadata": {},
   "outputs": [
    {
     "name": "stdout",
     "output_type": "stream",
     "text": [
      "['h', 'o', 'l', 'i', 's']\n",
      "['h', 'e', 'l', 'l', 'o']\n",
      "['h', 'a', 'l', 'l', 'o']\n"
     ]
    }
   ],
   "source": [
    "\n",
    "\n",
    "lista_alan = [['h', 'o', 'l', 'i', 's'], ['h', 'e', 'l', 'l', 'o'], ['h', 'a', 'l', 'l', 'o']]\n",
    "\n",
    "def lista_de_listas (lista_alan):\n",
    "    \n",
    "    for saludos_alan in lista_alan:\n",
    "     print(saludos_alan)\n",
    "     \n",
    "\n",
    "\n",
    "    \n",
    "lista_de_listas(lista_alan)"
   ]
  },
  {
   "cell_type": "code",
   "execution_count": 67,
   "metadata": {},
   "outputs": [
    {
     "name": "stdout",
     "output_type": "stream",
     "text": [
      "['h', 'o', 'l', 'i', 's']\n",
      "['h', 'e', 'l', 'l', 'o']\n",
      "['h', 'a', 'l', 'l', 'o']\n"
     ]
    }
   ],
   "source": [
    "\n",
    "lista = [['h', 'o', 'l', 'i', 's'], ['h', 'e', 'l', 'l', 'o'], ['h', 'a', 'l', 'l', 'o']]\n",
    "def imprimir_lista (lista):\n",
    "    print(lista[0])\n",
    "    print(lista[1])\n",
    "    print(lista[2])\n",
    "imprimir_lista(lista)"
   ]
  },
  {
   "cell_type": "code",
   "execution_count": 68,
   "metadata": {},
   "outputs": [
    {
     "name": "stdout",
     "output_type": "stream",
     "text": [
      "['h', 'o', 'l', 'i', 's']\n",
      "['h', 'e', 'l', 'l', 'o']\n",
      "['h', 'a', 'l', 'l', 'o']\n"
     ]
    }
   ],
   "source": [
    "lista_ejemplo = [['h', 'o', 'l', 'i', 's'], ['h', 'e', 'l', 'l', 'o'], ['h', 'a', 'l', 'l', 'o']]\n",
    "\n",
    "# #crear funcion que imprima la lista de listas una linea por cada lista.\n",
    "def imprimir_con_salto(lista_a_imprimir):\n",
    "    for i in lista_a_imprimir:\n",
    "        lista = list(i)\n",
    "        print(lista)\n",
    "\n",
    "imprimir_con_salto(lista_ejemplo)"
   ]
  },
  {
   "cell_type": "code",
   "execution_count": null,
   "metadata": {},
   "outputs": [],
   "source": []
  },
  {
   "cell_type": "code",
   "execution_count": null,
   "metadata": {},
   "outputs": [
    {
     "ename": "IndentationError",
     "evalue": "expected an indented block after 'if' statement on line 22 (2895652564.py, line 23)",
     "output_type": "error",
     "traceback": [
      "\u001b[1;36m  Cell \u001b[1;32mIn[87], line 23\u001b[1;36m\u001b[0m\n\u001b[1;33m    comparacion_de_letras.append(\"[\" + palabra_usuario[indice] +\"]\" )\u001b[0m\n\u001b[1;37m    ^\u001b[0m\n\u001b[1;31mIndentationError\u001b[0m\u001b[1;31m:\u001b[0m expected an indented block after 'if' statement on line 22\n"
     ]
    }
   ],
   "source": [
    "\n",
    "\n"
   ]
  },
  {
   "cell_type": "code",
   "execution_count": 90,
   "metadata": {},
   "outputs": [
    {
     "ename": "IndentationError",
     "evalue": "unindent does not match any outer indentation level (<string>, line 24)",
     "output_type": "error",
     "traceback": [
      "\u001b[1;36m  File \u001b[1;32m<string>:24\u001b[1;36m\u001b[0m\n\u001b[1;33m    comparacion_de_letras.append(\"[\" + palabra_usuario[indice] +\"]\" )\u001b[0m\n\u001b[1;37m                                                                     ^\u001b[0m\n\u001b[1;31mIndentationError\u001b[0m\u001b[1;31m:\u001b[0m unindent does not match any outer indentation level\n"
     ]
    }
   ],
   "source": [
    "palabra_del_juego = \"Carne\"\n",
    "palabra_usuario = input(\"Ingrese una palabra de 5 letras\")\n",
    "vidas = 2\n",
    "\n",
    "while vidas > 0:\n",
    "    print(f\"te quedan {vidas} vidas\")\n",
    "    palabra= input(\"Ingrese una palabra de 5 letras\")\n",
    "    vidas = vidas -1\n",
    "print(\"Te quedaste sin intentos\")\n",
    "\n",
    "    def conocer_fila_verificada (palabra_del_juego,palabra_usuario):\n",
    "\n",
    "        longitud_de_palabra_del_juego = 5\n",
    "\n",
    "        comparacion_de_letras = []\n",
    "\n",
    "\n",
    "        for indice in range(longitud_de_palabra_del_juego):\n",
    "        mismas_letras = palabra_del_juego[indice] == palabra_usuario[indice]\n",
    "        letra_existente = palabra_usuario[indice] in palabra_del_juego\n",
    "\n",
    "         \n",
    "            if mismas_letras:\n",
    "           comparacion_de_letras.append(\"[\" + palabra_usuario[indice] +\"]\" )\n",
    "            elif letra_existente:\n",
    "            comparacion_de_letras.append(\"(\" + palabra_usuario[indice] + \")\")\n",
    "            else:\n",
    "            comparacion_de_letras.append(palabra_usuario[indice])\n",
    "        \n",
    "\n",
    "\n",
    "    return comparacion_de_letras\n",
    "       \n",
    "       \n",
    "linea_verificada = conocer_fila_verificada(palabra_del_juego,palabra_usuario)\n",
    "print(linea_verificada)"
   ]
  }
 ],
 "metadata": {
  "kernelspec": {
   "display_name": "Python 3",
   "language": "python",
   "name": "python3"
  },
  "language_info": {
   "codemirror_mode": {
    "name": "ipython",
    "version": 3
   },
   "file_extension": ".py",
   "mimetype": "text/x-python",
   "name": "python",
   "nbconvert_exporter": "python",
   "pygments_lexer": "ipython3",
   "version": "3.13.2"
  }
 },
 "nbformat": 4,
 "nbformat_minor": 2
}
