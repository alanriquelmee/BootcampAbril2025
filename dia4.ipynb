{
 "cells": [
  {
   "cell_type": "markdown",
   "metadata": {},
   "source": []
  },
  {
   "cell_type": "code",
   "execution_count": 11,
   "metadata": {},
   "outputs": [
    {
     "name": "stdout",
     "output_type": "stream",
     "text": [
      "{'nombre': 'Alan', 'Apellido': 'Riquelme'}\n",
      "{'Apellido': 'Riquelme'}\n"
     ]
    }
   ],
   "source": [
    "#Ejemplo de diccionario \n",
    "\n",
    "mi_contacto = {\"nombre\": \"Alan\", \"Apellido\": \"Riquelme\"}\n",
    "\n",
    "mi_contacto[\"nombre\"]\n",
    "print(mi_contacto)\n",
    "\n",
    "del mi_contacto[\"nombre\"]\n",
    "print(mi_contacto)"
   ]
  },
  {
   "cell_type": "markdown",
   "metadata": {},
   "source": [
    "Escribir un programa que cree un diccionario vacío y lo vaya llenado con información sobre una persona (por ejemplo nombre, edad, sexo, teléfono, correo electrónico, etc.) que se le pida al usuario. Cada vez que se añada un nuevo dato debe imprimirse el contenido del diccionario."
   ]
  },
  {
   "cell_type": "code",
   "execution_count": null,
   "metadata": {},
   "outputs": [
    {
     "name": "stdout",
     "output_type": "stream",
     "text": [
      "{'nombre': 'Pablo'}\n",
      "{'nombre': 'Pablo', 'apellido': 'Medina'}\n",
      "{'nombre': 'Pablo', 'apellido': 'Medina', 'edad': '25'}\n",
      "{'nombre': 'Pablo', 'apellido': 'Medina', 'edad': '25', 'direccion': 'mariscal lopez 123'}\n"
     ]
    }
   ],
   "source": [
    "\n",
    "datos_persona = {}\n",
    "datos_persona[\"nombre\"] = input(\"Ingrese su nombre:\")\n",
    "print(datos_persona)\n",
    "datos_persona[\"apellido\"] = input(\"Ingrese su apellido:\")\n",
    "print(datos_persona)\n",
    "datos_persona[\"edad\"] = input(\"Ingrese su edad:\")\n",
    "print(datos_persona)\n",
    "datos_persona[\"direccion\"] = input(\"Ingrese su direccion:\")\n",
    "print(datos_persona)"
   ]
  },
  {
   "cell_type": "code",
   "execution_count": null,
   "metadata": {},
   "outputs": [],
   "source": [
    "mi_diccionario = {}\n",
    "\n",
    "nombre = input(\"Ingrese su nombre: \")\n",
    "mi_diccionario = {\"nombre\": nombre}\n",
    "print(mi_diccionario)\n",
    "\n",
    "apellido_ingresado = input(\"Ingrese su apellido: \")\n",
    "mi_diccionario = {\"nombre\": nombre, \"apellido\": apellido_ingresado}\n",
    "print(mi_diccionario)\n",
    "\n",
    "genero_ingresado = input(\"Ingrese si es del genero Masculino o Femenino: \")\n",
    "mi_diccionario = {\"nombre\": nombre, \"apellido\": apellido_ingresado, \"genero\": genero_ingresado}\n",
    "print(mi_diccionario)\n",
    "\n",
    "edad_ingresado = int(input(\"Ingrese su edad: \"))\n",
    "mi_diccionario = {\"nombre\": nombre, \"apellido\": apellido_ingresado, \"genero\": genero_ingresado, \"edad\": edad_ingresado}\n",
    "print(mi_diccionario)\n",
    "\n",
    "numero_celular_ingresado = int(input(\"Ingrese su numero celular: \"))\n",
    "mi_diccionario = {\"nombre\": nombre, \"apellido\": apellido_ingresado, \"genero\": genero_ingresado, \"edad\": edad_ingresado, \"celular\": numero_celular_ingresado}\n",
    "print(mi_diccionario)"
   ]
  },
  {
   "cell_type": "code",
   "execution_count": null,
   "metadata": {},
   "outputs": [],
   "source": [
    "while True:\n",
    "    clave = input(\"¿Qué clave deseas agregar? (ej. 'nombre', 'edad'): \")\n",
    "    valor = input(\"Ingrese el valor para el diccionario\")\n",
    "\n",
    "    mi_diccionario[clave] = valor\n",
    "    print(\" Lista de Diccionario\")\n",
    "    print(mi_diccionario)\n",
    "\n",
    "    continuar = input(\"Deseas agregar mas datos? si o no...\").lower()\n",
    "    if continuar != \"si\" and continuar != \"si\":\n",
    "        break"
   ]
  },
  {
   "cell_type": "code",
   "execution_count": null,
   "metadata": {},
   "outputs": [],
   "source": [
    "campos = ['nombre','apellido','edad']\n",
    "datos_personales = {}\n",
    "\n",
    "for campo in campos:\n",
    "    datos_personales[campo] = input(f'Ingrese {campo}')\n",
    "\n",
    "datos_personales.values()"
   ]
  },
  {
   "cell_type": "markdown",
   "metadata": {},
   "source": [
    "Crear una tarjeta personal. El usuario (mediante input) puede elegir:\n",
    "- crear datos nuevos\n",
    "- modificar datos \n",
    "- eliminar datos "
   ]
  },
  {
   "cell_type": "code",
   "execution_count": null,
   "metadata": {},
   "outputs": [
    {
     "name": "stdout",
     "output_type": "stream",
     "text": [
      "{'Nombre y Apellido': 'Alan', 'Cargo': 'Programador', 'Numero de Telefono': 5411589, 'Correo electrónico': 'alanriack@gmail.com'}\n",
      " Lista de Diccionario\n",
      "{'Nombre y Apellido': 'Alan', 'Cargo': 'DJ', 'Numero de Telefono': 5411589, 'Correo electrónico': 'alanriack@gmail.com'}\n"
     ]
    }
   ],
   "source": [
    "\n",
    "\n",
    "tarjeta_personal = {\"Nombre y Apellido\": \"Alan\", \"Cargo\": \"Programador\", \"Numero de Telefono\": 5411589, \"Correo electrónico\": \"alanriack@gmail.com\" }\n",
    "\n",
    "print(tarjeta_personal)\n",
    "\n",
    "\n",
    "eleccion = int(input(\"Seleccione una opción:\\n1 - Crear datos nuevos\\n2 - Modificar datos\\n3 - Eliminar datos\\n \"))\n",
    "if eleccion == 1:\n",
    "\n",
    "    while True:\n",
    "        dato = input(\"¿Qué dato deseas agregar? (ej. 'nombre', 'edad'): \")\n",
    "        valor = input(\"Ingrese el valor para el diccionario\")\n",
    "\n",
    "        tarjeta_personal[dato] = valor\n",
    "        print(\" Tarjeta Personal\")\n",
    "        print(tarjeta_personal)\n",
    "\n",
    "        continuar = input(\"Deseas agregar mas datos? si o no...\").lower()\n",
    "        \n",
    "        if continuar != \"si\":\n",
    "            break\n",
    "elif eleccion ==2:\n",
    "    \n",
    "        while True:\n",
    "            dato = input(\"¿Qué dato deseas modificar? (ej. 'nombre', 'edad'): Escriba la opcion asi mismo como se encuentra en el diccionario \")\n",
    "            if dato in tarjeta_personal:\n",
    "                valor = input(\"Ingrese el valor para el diccionario\")\n",
    "                tarjeta_personal[dato] = valor\n",
    "                print(\" Lista de Diccionario\")\n",
    "                print(tarjeta_personal)\n",
    "            else:\n",
    "                 print(f\"El dato {dato} no existe\")\n",
    "\n",
    "            while True:\n",
    "                 \n",
    "\n",
    "                continuar = input(\"Deseas modificar mas datos? si o no...\").lower()\n",
    "                if continuar in [\"si\", \"no\"]:\n",
    "                    break\n",
    "                else:\n",
    "                    print(\"Por favor escribe si o no\")\n",
    "            if continuar == \"no\":\n",
    "                 break\n",
    "elif eleccion == 3:\n",
    "     while True:\n",
    "            dato = input(\"¿Qué dato deseas eliminar? (ej. 'nombre', 'edad'): \")\n",
    "           \n",
    "            if dato in tarjeta_personal:           \n",
    "                del tarjeta_personal[dato] \n",
    "                print(\" Lista de Diccionario\")\n",
    "                print(tarjeta_personal)\n",
    "            else:\n",
    "                 print(f\"El dato {dato} no existe\")\n",
    "                 \n",
    "\n",
    "            while True:\n",
    "                 \n",
    "                continuar = input(\"Deseas eliminar mas datos? si o no...\").lower()\n",
    "                if continuar in [\"si\", \"no\"]:\n",
    "                    break\n",
    "                else:\n",
    "                    print(\"Por favor escribe si o no\")\n",
    "            if continuar == \"no\":\n",
    "                 break\n",
    "else:\n",
    "     print(\"Opcion no valida\")\n",
    "       \n",
    "\n",
    "\n",
    "\n",
    "\n",
    "\n",
    "\n",
    "\n"
   ]
  },
  {
   "cell_type": "markdown",
   "metadata": {},
   "source": [
    "CREAR UNA AGENDA DE CONTACTOS. EL USUARIO PUEDE ELEGIR:\n",
    "\n",
    " 1 MOSTRAR LOS CONTACTOS\n",
    " 2 Crear contactos \n",
    "    3 Modificar datos del contacto \n"
   ]
  },
  {
   "cell_type": "code",
   "execution_count": null,
   "metadata": {},
   "outputs": [
    {
     "name": "stdout",
     "output_type": "stream",
     "text": [
      "{'contacto1': {'Nombre y Apellido': 'Alan Riquelme', 'Cargo': 'Programador', 'Numero de Telefono': 5411589, 'Correo electrónico': 'alanriack@gmail.com'}, 'contacto2': {'Nombre y Apellido': 'Gabriel Raidan', 'Cargo': 'Analista de Datos'}, 'contacto3': {'Nombre ': 'Alvaro', 'Edad': 25}}\n"
     ]
    }
   ],
   "source": [
    "alan = {\"Nombre y Apellido\": \"Alan Riquelme\", \"Cargo\": \"Programador\", \"Numero de Telefono\": 5411589, \"Correo electrónico\": \"alanriack@gmail.com\" }\n",
    "\n",
    "gabriel = {\"Nombre y Apellido\": \"Gabriel Raidan\", \"Cargo\": \"Analista de Datos\"}\n",
    "alvaro = {\"Nombre \": \"Alvaro\", \"Edad\": 25}\n",
    "\n",
    "Olaf = {}\n",
    "Gus = {}\n",
    "\n",
    "contacto1 = alan\n",
    "contacto2= gabriel\n",
    "contacto3 = alvaro\n",
    "\n",
    "agenda_contactos = {\n",
    "    \"contacto1\": contacto1 ,\n",
    "    \"contacto2\": contacto2,\n",
    "    \"contacto3\": contacto3}\n",
    "\n",
    "\n",
    "\n",
    "\n",
    "seleccion = int(input(\"Seleccione una opción para trabajar sobre esta agenda :\\n1 - Visualizar la agenda\\n2 - Crear contactos\\n3 - Modificar datos del contacto\\n \" ))\n",
    "            \n",
    "if seleccion == 1:\n",
    "    agenda_contactos.keys()\n",
    "    print(agenda_contactos)\n",
    "\n",
    "elif seleccion == 2:\n",
    "\n",
    "    dato1 = input(\"¿Qué datos de contacto te gustaria agregar? (ej. 'Olaf', 'Gus', 'Jose): \")\n",
    "    valor1  = input(\"Ingrese el valor para el diccionario\")\n",
    "\n",
    "    agenda_contactos[dato1] = valor1\n",
    "     print(\" hola\")\n",
    "     print(tarjeta_personal)\n",
    "    \n",
    "\n",
    "\n",
    "\n",
    "\n",
    "\n",
    "\n",
    "\n"
   ]
  },
  {
   "cell_type": "markdown",
   "metadata": {},
   "source": [
    "Crear dos métodos para nuestro animal y ejecutar, debe ser algo específico de ese animal.\n",
    "\n",
    "Ejemplo: \"Cuando hablo, digo X\".\n",
    "Ejemplo: \"Cuando me muevo, hago X\"."
   ]
  },
  {
   "cell_type": "code",
   "execution_count": null,
   "metadata": {},
   "outputs": [],
   "source": []
  },
  {
   "cell_type": "code",
   "execution_count": null,
   "metadata": {},
   "outputs": [
    {
     "data": {
      "text/plain": [
       "'blanco'"
      ]
     },
     "execution_count": 36,
     "metadata": {},
     "output_type": "execute_result"
    }
   ],
   "source": [
    "class Gato:\n",
    "    #atributo de clase\n",
    "\n",
    "    patas = 4\n",
    "    orejas = 2\n",
    "    cola = 1\n",
    "\n",
    "\n",
    "    #atributos de instancia \n",
    "\n",
    "    def __init__(self, color,raza):\n",
    "        self.color = color \n",
    "        self.raza = raza \n",
    "\n",
    "    #metodos \n",
    "\n",
    "    def saltar(self):\n",
    "        print(\"estoy saltando\")\n",
    "\n",
    "\n",
    "miso = Gato(\"blanco\",\"delmer\")\n",
    "#accedo al atributo instanciando de esta manera \n",
    "miso.color\n"
   ]
  },
  {
   "cell_type": "code",
   "execution_count": null,
   "metadata": {},
   "outputs": [],
   "source": [
    "class Gato():\n",
    "    orejas =2 \n",
    "    patas=4\n",
    "    tipo = \"felino\"\n",
    "    def init(self, color, tamanho):\n",
    "        self.color = color\n",
    "        self.tamanho = tamanho\n",
    "    def maulla(self):\n",
    "        return ('Holaa(en miau)')\n",
    "    def sonido(self):\n",
    "        return('Ronronea fuerte')\n",
    "    def salta(self):\n",
    "        return ('Saltaa alto')\n",
    "eldestructordesofas = Gato('blanco', 'grande')\n",
    "\n",
    "print(f'{eldestructordesofas.maulla()}')"
   ]
  },
  {
   "cell_type": "code",
   "execution_count": 39,
   "metadata": {},
   "outputs": [
    {
     "name": "stdout",
     "output_type": "stream",
     "text": [
      "cuando como cierro los ojos\n",
      "Ahhhhh\n"
     ]
    }
   ],
   "source": [
    "class Tortuga:\n",
    "    ojos = 2\n",
    "    patas = 4\n",
    "    caparazon = 1\n",
    "\n",
    "    def __init__(self, color, raza):\n",
    "        self.color = color\n",
    "        self.raza = raza\n",
    "\n",
    "    def comer(self):\n",
    "        return(\"cuando como cierro los ojos\")\n",
    "    def gemido(self):\n",
    "        return(\"Ahhhhh\")\n",
    "\n",
    "philipo = Tortuga(\"verde\" , 'tierra')\n",
    "\n",
    "print(philipo.comer())\n",
    "print(philipo.gemido())"
   ]
  },
  {
   "cell_type": "markdown",
   "metadata": {},
   "source": [
    "Definir una clase madre que herede a sus clases hijas dos atributos de instancia. Mostrar ambos atributos en pantalla desde los objetos de las clases hijas.\n",
    "\n",
    "Observación: Editar las clases hijas para que no se inicialicen."
   ]
  },
  {
   "cell_type": "code",
   "execution_count": 60,
   "metadata": {},
   "outputs": [
    {
     "name": "stdout",
     "output_type": "stream",
     "text": [
      "Cuando aplaudo me gusta que aplaudan y se callen todos\n"
     ]
    },
    {
     "data": {
      "text/plain": [
       "'marron'"
      ]
     },
     "execution_count": 60,
     "metadata": {},
     "output_type": "execute_result"
    }
   ],
   "source": [
    "class Profesor():\n",
    "    ojos = 2\n",
    "    boca = 1\n",
    "    brazo = 2\n",
    "    piernas =  2\n",
    "\n",
    "    def __init__(self, cabellocolor, peso):\n",
    "        self.cabellocolor = cabellocolor\n",
    "        self.peso = peso \n",
    "\n",
    "    def enseñar(self):\n",
    "        return(\" cuando enseño me gusta que me escuchen\")\n",
    "    def aplaudir(self):\n",
    "        return(\"Cuando aplaudo me gusta que aplaudan y se callen todos\")\n",
    "\n",
    "Edu = Profesor(\"Negro\",\"75 kg\")\n",
    "Edu.cabellocolor\n",
    "Edu.peso\n",
    "\n",
    "print(Edu.aplaudir())\n",
    "\n",
    "\n",
    "\n",
    "class Coach(Profesor):\n",
    "    nariz = 1\n",
    "\n",
    "    def corregir(self):\n",
    "        return' Cuando corrijo me gusta que me presten atencion y aprendan'\n",
    "    \n",
    "\n",
    "Jose = Coach(\"marron\", \"75 kg\")\n",
    "Jose.enseñar()\n",
    "Jose.corregir()\n",
    "Jose.aplaudir()\n",
    "Jose.cabellocolor\n",
    "\n",
    "        \n",
    "   "
   ]
  },
  {
   "cell_type": "code",
   "execution_count": null,
   "metadata": {},
   "outputs": [],
   "source": []
  }
 ],
 "metadata": {
  "kernelspec": {
   "display_name": "Python 3",
   "language": "python",
   "name": "python3"
  },
  "language_info": {
   "codemirror_mode": {
    "name": "ipython",
    "version": 3
   },
   "file_extension": ".py",
   "mimetype": "text/x-python",
   "name": "python",
   "nbconvert_exporter": "python",
   "pygments_lexer": "ipython3",
   "version": "3.13.2"
  }
 },
 "nbformat": 4,
 "nbformat_minor": 2
}
